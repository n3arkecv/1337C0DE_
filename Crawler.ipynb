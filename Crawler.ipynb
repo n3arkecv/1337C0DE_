{
  "nbformat": 4,
  "nbformat_minor": 0,
  "metadata": {
    "colab": {
      "provenance": []
    },
    "kernelspec": {
      "name": "python3",
      "display_name": "Python 3"
    },
    "language_info": {
      "name": "python"
    }
  },
  "cells": [
    {
      "cell_type": "code",
      "execution_count": 1,
      "metadata": {
        "id": "XJ7rjjrFqw1E",
        "colab": {
          "base_uri": "https://localhost:8080/"
        },
        "outputId": "f7cf5153-b450-4937-e384-a7c75ee134e7"
      },
      "outputs": [
        {
          "output_type": "stream",
          "name": "stdout",
          "text": [
            "Enter numbers: 3 6 8 11 17 21\n",
            "Enter target sum: 9\n",
            "Indices of numbers adding up to 9: [0, 1]\n"
          ]
        }
      ],
      "source": [
        "#Two Sum Solution\n",
        "\n",
        "def two_sum(nums, target):\n",
        "    num_to_index = {}\n",
        "    for i, num in enumerate(nums):\n",
        "        complement = target - num\n",
        "        if complement in num_to_index:\n",
        "            return [num_to_index[complement], i]\n",
        "        num_to_index[num] = i\n",
        "\n",
        "nums = list(map(int, input(\"Enter numbers: \").split()))\n",
        "target = int(input(\"Enter target sum: \"))\n",
        "\n",
        "result = two_sum(nums, target)\n",
        "if result:\n",
        "    print(f\"Indices of numbers adding up to {target}: {result}\")\n",
        "else:\n",
        "    print(\"No two numbers add up to the target.\")\n"
      ]
    },
    {
      "cell_type": "code",
      "source": [
        "#Palindrome Number\n",
        "\n",
        "def isPalindrome(a):\n",
        "    b = str(a)\n",
        "    c = b[::-1]\n",
        "    if b == c:\n",
        "        return True\n",
        "    else:\n",
        "        return False\n",
        "\n",
        "x = input()\n",
        "print(isPalindrome(x))"
      ],
      "metadata": {
        "id": "DVgOkBXjrf0G",
        "colab": {
          "base_uri": "https://localhost:8080/"
        },
        "outputId": "ea957c8c-79c1-44a9-ddca-66d135acaa87"
      },
      "execution_count": null,
      "outputs": [
        {
          "output_type": "stream",
          "name": "stdout",
          "text": [
            "121\n",
            "True\n"
          ]
        }
      ]
    }
  ]
}
